{
  "metadata": {
    "kernelspec": {
      "display_name": "Python 3",
      "name": "python3"
    },
    "language_info": {
      "name": "python",
      "version": "3.10.13",
      "mimetype": "text/x-python",
      "codemirror_mode": {
        "name": "ipython",
        "version": 3
      },
      "pygments_lexer": "ipython3",
      "nbconvert_exporter": "python",
      "file_extension": ".py"
    },
    "kaggle": {
      "accelerator": "tpu1vmV38",
      "dataSources": [
        {
          "sourceId": 3376422,
          "sourceType": "datasetVersion",
          "datasetId": 2035877
        }
      ],
      "dockerImageVersionId": 30636,
      "isInternetEnabled": true,
      "language": "python",
      "sourceType": "notebook",
      "isGpuEnabled": false
    },
    "colab": {
      "name": "melanoma_detection",
      "provenance": [],
      "gpuType": "T4",
      "include_colab_link": true
    },
    "accelerator": "GPU"
  },
  "nbformat_minor": 0,
  "nbformat": 4,
  "cells": [
    {
      "cell_type": "markdown",
      "metadata": {
        "id": "view-in-github",
        "colab_type": "text"
      },
      "source": [
        "<a href=\"https://colab.research.google.com/github/sovandash/mel_detection_using_cnn/blob/main/melanoma_detection.ipynb\" target=\"_parent\"><img src=\"https://colab.research.google.com/assets/colab-badge.svg\" alt=\"Open In Colab\"/></a>"
      ]
    },
    {
      "source": [
        "\n",
        "# IMPORTANT: RUN THIS CELL IN ORDER TO IMPORT YOUR KAGGLE DATA SOURCES\n",
        "# TO THE CORRECT LOCATION (/kaggle/input) IN YOUR NOTEBOOK,\n",
        "# THEN FEEL FREE TO DELETE THIS CELL.\n",
        "# NOTE: THIS NOTEBOOK ENVIRONMENT DIFFERS FROM KAGGLE'S PYTHON\n",
        "# ENVIRONMENT SO THERE MAY BE MISSING LIBRARIES USED BY YOUR\n",
        "# NOTEBOOK.\n",
        "\n",
        "import os\n",
        "import sys\n",
        "from tempfile import NamedTemporaryFile\n",
        "from urllib.request import urlopen\n",
        "from urllib.parse import unquote, urlparse\n",
        "from urllib.error import HTTPError\n",
        "from zipfile import ZipFile\n",
        "import tarfile\n",
        "import shutil\n",
        "\n",
        "CHUNK_SIZE = 40960\n",
        "DATA_SOURCE_MAPPING = 'melanoma-skin-cancer-dataset-of-10000-images:https%3A%2F%2Fstorage.googleapis.com%2Fkaggle-data-sets%2F2035877%2F3376422%2Fbundle%2Farchive.zip%3FX-Goog-Algorithm%3DGOOG4-RSA-SHA256%26X-Goog-Credential%3Dgcp-kaggle-com%2540kaggle-161607.iam.gserviceaccount.com%252F20240123%252Fauto%252Fstorage%252Fgoog4_request%26X-Goog-Date%3D20240123T174653Z%26X-Goog-Expires%3D259200%26X-Goog-SignedHeaders%3Dhost%26X-Goog-Signature%3D8394ffb549f367b2763140df0f1c60a9e9a9f6d7997596e4ad2f10d456150809e0ced912703438b7b093d76a47cf45824609174a46db0f1e8dc33c26e6827e5fb27e9b6bf68c339fe82b46b03a129db781485334479caba65cd80785a08835a5f5f3a6889443ee2f3db4d2bd3ad4ad5bd8e32fe7845628ee4035836a3a06a9a51a2e4249d9885ca5ee7ab77fcf992d20ac05f52064a7fd38592193eeb2cbcfe380cbbacfbde9aa31c3eae8859dfd287f36dfd104929b3cb893dc321cc841880064221714c030eff7d050613feee7537428ca9150ea13ef9742aa16215f32c968dad47ae505501e6fbd6b796cae61d12f911fe915f861662a48280fbd639a228c'\n",
        "\n",
        "KAGGLE_INPUT_PATH='/kaggle/input'\n",
        "KAGGLE_WORKING_PATH='/kaggle/working'\n",
        "KAGGLE_SYMLINK='kaggle'\n",
        "\n",
        "!umount /kaggle/input/ 2> /dev/null\n",
        "shutil.rmtree('/kaggle/input', ignore_errors=True)\n",
        "os.makedirs(KAGGLE_INPUT_PATH, 0o777, exist_ok=True)\n",
        "os.makedirs(KAGGLE_WORKING_PATH, 0o777, exist_ok=True)\n",
        "\n",
        "try:\n",
        "  os.symlink(KAGGLE_INPUT_PATH, os.path.join(\"..\", 'input'), target_is_directory=True)\n",
        "except FileExistsError:\n",
        "  pass\n",
        "try:\n",
        "  os.symlink(KAGGLE_WORKING_PATH, os.path.join(\"..\", 'working'), target_is_directory=True)\n",
        "except FileExistsError:\n",
        "  pass\n",
        "\n",
        "for data_source_mapping in DATA_SOURCE_MAPPING.split(','):\n",
        "    directory, download_url_encoded = data_source_mapping.split(':')\n",
        "    download_url = unquote(download_url_encoded)\n",
        "    filename = urlparse(download_url).path\n",
        "    destination_path = os.path.join(KAGGLE_INPUT_PATH, directory)\n",
        "    try:\n",
        "        with urlopen(download_url) as fileres, NamedTemporaryFile() as tfile:\n",
        "            total_length = fileres.headers['content-length']\n",
        "            print(f'Downloading {directory}, {total_length} bytes compressed')\n",
        "            dl = 0\n",
        "            data = fileres.read(CHUNK_SIZE)\n",
        "            while len(data) > 0:\n",
        "                dl += len(data)\n",
        "                tfile.write(data)\n",
        "                done = int(50 * dl / int(total_length))\n",
        "                sys.stdout.write(f\"\\r[{'=' * done}{' ' * (50-done)}] {dl} bytes downloaded\")\n",
        "                sys.stdout.flush()\n",
        "                data = fileres.read(CHUNK_SIZE)\n",
        "            if filename.endswith('.zip'):\n",
        "              with ZipFile(tfile) as zfile:\n",
        "                zfile.extractall(destination_path)\n",
        "            else:\n",
        "              with tarfile.open(tfile.name) as tarfile:\n",
        "                tarfile.extractall(destination_path)\n",
        "            print(f'\\nDownloaded and uncompressed: {directory}')\n",
        "    except HTTPError as e:\n",
        "        print(f'Failed to load (likely expired) {download_url} to path {destination_path}')\n",
        "        continue\n",
        "    except OSError as e:\n",
        "        print(f'Failed to load {download_url} to path {destination_path}')\n",
        "        continue\n",
        "\n",
        "print('Data source import complete.')\n"
      ],
      "metadata": {
        "id": "jQdM_iRTbqwl",
        "outputId": "afbf45cd-079e-4e09-b485-6f9abc24f4fe",
        "colab": {
          "base_uri": "https://localhost:8080/"
        }
      },
      "cell_type": "code",
      "outputs": [
        {
          "output_type": "stream",
          "name": "stdout",
          "text": [
            "Downloading melanoma-skin-cancer-dataset-of-10000-images, 103508268 bytes compressed\n",
            "[==================================================] 103508268 bytes downloaded\n",
            "Downloaded and uncompressed: melanoma-skin-cancer-dataset-of-10000-images\n",
            "Data source import complete.\n"
          ]
        }
      ],
      "execution_count": null
    },
    {
      "cell_type": "code",
      "source": [
        "# This Python 3 environment comes with many helpful analytics libraries installed\n",
        "# It is defined by the kaggle/python Docker image: https://github.com/kaggle/docker-python\n",
        "# For example, here's several helpful packages to load\n",
        "\n",
        "import numpy as np # linear algebra\n",
        "import pandas as pd # data processing, CSV file I/O (e.g. pd.read_csv)\n",
        "\n",
        "# Input data files are available in the read-only \"../input/\" directory\n",
        "# For example, running this (by clicking run or pressing Shift+Enter) will list all files under the input directory\n",
        "\n",
        "import os\n",
        "for dirname, _, filenames in os.walk('/kaggle/input'):\n",
        "    for filename in filenames:\n",
        "        print(os.path.join(dirname, filename))\n",
        "\n",
        "# You can write up to 20GB to the current directory (/kaggle/working/) that gets preserved as output when you create a version using \"Save & Run All\"\n",
        "# You can also write temporary files to /kaggle/temp/, but they won't be saved outside of the current session"
      ],
      "metadata": {
        "_uuid": "8f2839f25d086af736a60e9eeb907d3b93b6e0e5",
        "_cell_guid": "b1076dfc-b9ad-4769-8c92-a6c4dae69d19",
        "trusted": true,
        "id": "j6f1pt0nbqwo"
      },
      "execution_count": null,
      "outputs": []
    },
    {
      "cell_type": "code",
      "source": [
        "from tensorflow.keras.preprocessing.image import ImageDataGenerator\n",
        "import matplotlib.pyplot as plt"
      ],
      "metadata": {
        "trusted": true,
        "id": "1-pHI7bsbqwo"
      },
      "execution_count": null,
      "outputs": []
    },
    {
      "cell_type": "code",
      "source": [
        "train_datagen=ImageDataGenerator(rescale=1/255,\n",
        "                                 shear_range=0.2,\n",
        "                                 horizontal_flip=True,\n",
        "                                 zoom_range=0.2,\n",
        "                                 validation_split=0.2)\n",
        "\n",
        "test_datagen=ImageDataGenerator(rescale=1/255)"
      ],
      "metadata": {
        "trusted": true,
        "id": "-WdA84aTbqwp"
      },
      "execution_count": null,
      "outputs": []
    },
    {
      "cell_type": "code",
      "source": [
        "train_generator=train_datagen.flow_from_directory('/kaggle/input/melanoma-skin-cancer-dataset-of-10000-images/melanoma_cancer_dataset/train',\n",
        "                                           target_size=(224,224),\n",
        "                                           batch_size=32,\n",
        "                                           class_mode='binary',\n",
        "                                           subset='training'\n",
        "                                           )\n",
        "test_generator=test_datagen.flow_from_directory('/kaggle/input/melanoma-skin-cancer-dataset-of-10000-images/melanoma_cancer_dataset/test',\n",
        "                                           target_size=(224,224),\n",
        "                                           batch_size=32,\n",
        "                                           class_mode='binary',\n",
        "                                           subset='training'\n",
        "                                           )\n",
        "validation_generator=train_datagen.flow_from_directory('/kaggle/input/melanoma-skin-cancer-dataset-of-10000-images/melanoma_cancer_dataset/train',\n",
        "                                           target_size=(224,224),\n",
        "                                           batch_size=32,\n",
        "                                           class_mode='binary',\n",
        "                                           subset='validation'\n",
        "                                           )\n",
        "unshuffled_test_generator=test_datagen.flow_from_directory('/kaggle/input/melanoma-skin-cancer-dataset-of-10000-images/melanoma_cancer_dataset/test',\n",
        "                                           target_size=(224,224),\n",
        "                                           batch_size=32,\n",
        "                                           class_mode='binary',\n",
        "                                           shuffle=False,\n",
        "                                           subset='training'\n",
        ")"
      ],
      "metadata": {
        "trusted": true,
        "id": "Hp_r5Ieabqwp",
        "outputId": "d5b83458-1253-43e8-80b4-ea4b58120e7e",
        "colab": {
          "base_uri": "https://localhost:8080/"
        }
      },
      "execution_count": null,
      "outputs": [
        {
          "output_type": "stream",
          "name": "stdout",
          "text": [
            "Found 7684 images belonging to 2 classes.\n",
            "Found 1000 images belonging to 2 classes.\n",
            "Found 1921 images belonging to 2 classes.\n",
            "Found 1000 images belonging to 2 classes.\n"
          ]
        }
      ]
    },
    {
      "cell_type": "code",
      "source": [],
      "metadata": {
        "id": "aJdA_ZiAbqwp"
      },
      "execution_count": null,
      "outputs": []
    },
    {
      "cell_type": "code",
      "source": [
        "#plt.imshow(train_generator.next()[0][20])"
      ],
      "metadata": {
        "trusted": true,
        "id": "idtqvUoMbqwp"
      },
      "execution_count": null,
      "outputs": []
    },
    {
      "cell_type": "code",
      "source": [
        "import tensorflow as tf\n",
        "from tensorflow.keras.models import Sequential\n",
        "from tensorflow.keras.layers import BatchNormalization,Conv2D,MaxPool2D,Flatten,Dense,Dropout,InputLayer\n",
        "from tensorflow.keras.optimizers import Adam\n",
        "from tensorflow.keras.callbacks import EarlyStopping\n",
        "from tensorflow.keras.models import load_model\n",
        "from tensorflow.keras.callbacks import ModelCheckpoint\n",
        "from tensorflow.keras.applications.vgg16 import VGG16\n",
        "from tensorflow.keras.regularizers import l1,l2"
      ],
      "metadata": {
        "trusted": true,
        "id": "Axiezj_Ibqwq"
      },
      "execution_count": null,
      "outputs": []
    },
    {
      "cell_type": "code",
      "source": [
        "    model=tf.keras.Sequential([\n",
        "\n",
        "                           InputLayer(input_shape=(224,224,3)),\n",
        "\n",
        "                           Conv2D(filters=6,kernel_size=3,padding='same',activation='relu'),\n",
        "                           BatchNormalization(),\n",
        "\n",
        "                           MaxPool2D(pool_size=4,strides=1),\n",
        "\n",
        "                           Conv2D(filters=16,kernel_size=3,padding='valid',activation='relu'),\n",
        "                           BatchNormalization(),\n",
        "\n",
        "                           MaxPool2D(pool_size=2,strides=1),\n",
        "\n",
        "\n",
        "                           #base_model,\n",
        "                           Flatten(),\n",
        "\n",
        "                           Dense(64,activation='relu'),\n",
        "                           BatchNormalization(),\n",
        "                           Dense(32,activation='relu'),\n",
        "                           BatchNormalization(),\n",
        "                           Dense(1,activation='sigmoid')\n",
        "\n",
        "                          ])\n",
        "model.summary()"
      ],
      "metadata": {
        "trusted": true,
        "id": "mc1ZYjxrbqwq",
        "outputId": "5685b639-8349-468b-e3f5-a2fd7c2a59a6",
        "colab": {
          "base_uri": "https://localhost:8080/"
        }
      },
      "execution_count": null,
      "outputs": [
        {
          "output_type": "stream",
          "name": "stdout",
          "text": [
            "Model: \"sequential\"\n",
            "_________________________________________________________________\n",
            " Layer (type)                Output Shape              Param #   \n",
            "=================================================================\n",
            " conv2d (Conv2D)             (None, 224, 224, 6)       168       \n",
            "                                                                 \n",
            " batch_normalization (Batch  (None, 224, 224, 6)       24        \n",
            " Normalization)                                                  \n",
            "                                                                 \n",
            " max_pooling2d (MaxPooling2  (None, 221, 221, 6)       0         \n",
            " D)                                                              \n",
            "                                                                 \n",
            " conv2d_1 (Conv2D)           (None, 219, 219, 16)      880       \n",
            "                                                                 \n",
            " batch_normalization_1 (Bat  (None, 219, 219, 16)      64        \n",
            " chNormalization)                                                \n",
            "                                                                 \n",
            " max_pooling2d_1 (MaxPoolin  (None, 218, 218, 16)      0         \n",
            " g2D)                                                            \n",
            "                                                                 \n",
            " flatten (Flatten)           (None, 760384)            0         \n",
            "                                                                 \n",
            " dense (Dense)               (None, 64)                48664640  \n",
            "                                                                 \n",
            " batch_normalization_2 (Bat  (None, 64)                256       \n",
            " chNormalization)                                                \n",
            "                                                                 \n",
            " dense_1 (Dense)             (None, 32)                2080      \n",
            "                                                                 \n",
            " batch_normalization_3 (Bat  (None, 32)                128       \n",
            " chNormalization)                                                \n",
            "                                                                 \n",
            " dense_2 (Dense)             (None, 1)                 33        \n",
            "                                                                 \n",
            "=================================================================\n",
            "Total params: 48668273 (185.65 MB)\n",
            "Trainable params: 48668037 (185.65 MB)\n",
            "Non-trainable params: 236 (944.00 Byte)\n",
            "_________________________________________________________________\n"
          ]
        }
      ]
    },
    {
      "cell_type": "code",
      "source": [
        "model.compile(optimizer=Adam(0.0001),loss='BinaryCrossentropy',metrics='accuracy')\n",
        "\n",
        "history=model.fit(train_generator,epochs=40,verbose=1,batch_size=64,validation_data=validation_generator)"
      ],
      "metadata": {
        "trusted": true,
        "id": "F39cjm7Nbqwq",
        "outputId": "8e30af59-6e45-4987-a3a1-4915355be8af",
        "colab": {
          "base_uri": "https://localhost:8080/"
        }
      },
      "execution_count": null,
      "outputs": [
        {
          "output_type": "stream",
          "name": "stdout",
          "text": [
            "Epoch 1/40\n",
            "241/241 [==============================] - 129s 498ms/step - loss: 0.3678 - accuracy: 0.8365 - val_loss: 0.5721 - val_accuracy: 0.7048\n",
            "Epoch 2/40\n",
            "241/241 [==============================] - 121s 501ms/step - loss: 0.2982 - accuracy: 0.8745 - val_loss: 0.3218 - val_accuracy: 0.8319\n",
            "Epoch 3/40\n",
            "241/241 [==============================] - 120s 497ms/step - loss: 0.2794 - accuracy: 0.8813 - val_loss: 0.2619 - val_accuracy: 0.9006\n",
            "Epoch 4/40\n",
            "241/241 [==============================] - 120s 498ms/step - loss: 0.2563 - accuracy: 0.8947 - val_loss: 0.2337 - val_accuracy: 0.9099\n",
            "Epoch 5/40\n",
            "241/241 [==============================] - 119s 495ms/step - loss: 0.2474 - accuracy: 0.8986 - val_loss: 0.2485 - val_accuracy: 0.9053\n",
            "Epoch 6/40\n",
            "241/241 [==============================] - 119s 495ms/step - loss: 0.2370 - accuracy: 0.9028 - val_loss: 0.2207 - val_accuracy: 0.9188\n",
            "Epoch 7/40\n",
            "241/241 [==============================] - 137s 570ms/step - loss: 0.2376 - accuracy: 0.9043 - val_loss: 0.2502 - val_accuracy: 0.8933\n",
            "Epoch 8/40\n",
            "241/241 [==============================] - 120s 500ms/step - loss: 0.2300 - accuracy: 0.9058 - val_loss: 0.2151 - val_accuracy: 0.9120\n",
            "Epoch 9/40\n",
            "241/241 [==============================] - 120s 498ms/step - loss: 0.2225 - accuracy: 0.9085 - val_loss: 0.2443 - val_accuracy: 0.9094\n",
            "Epoch 10/40\n",
            "241/241 [==============================] - 119s 495ms/step - loss: 0.2217 - accuracy: 0.9085 - val_loss: 0.2397 - val_accuracy: 0.9110\n",
            "Epoch 11/40\n",
            "241/241 [==============================] - 121s 501ms/step - loss: 0.2171 - accuracy: 0.9125 - val_loss: 0.2416 - val_accuracy: 0.9063\n",
            "Epoch 12/40\n",
            "241/241 [==============================] - 120s 498ms/step - loss: 0.2166 - accuracy: 0.9105 - val_loss: 0.2223 - val_accuracy: 0.9146\n",
            "Epoch 13/40\n",
            "241/241 [==============================] - 119s 495ms/step - loss: 0.2118 - accuracy: 0.9137 - val_loss: 0.2155 - val_accuracy: 0.9240\n",
            "Epoch 14/40\n",
            "241/241 [==============================] - 121s 502ms/step - loss: 0.2080 - accuracy: 0.9150 - val_loss: 0.2059 - val_accuracy: 0.9224\n",
            "Epoch 15/40\n",
            "241/241 [==============================] - 119s 494ms/step - loss: 0.2131 - accuracy: 0.9122 - val_loss: 0.2146 - val_accuracy: 0.9172\n",
            "Epoch 16/40\n",
            "241/241 [==============================] - 121s 502ms/step - loss: 0.1998 - accuracy: 0.9181 - val_loss: 0.2121 - val_accuracy: 0.9188\n",
            "Epoch 17/40\n",
            "241/241 [==============================] - 120s 498ms/step - loss: 0.2069 - accuracy: 0.9135 - val_loss: 0.2217 - val_accuracy: 0.9224\n",
            "Epoch 18/40\n",
            "241/241 [==============================] - 124s 513ms/step - loss: 0.2094 - accuracy: 0.9142 - val_loss: 0.2276 - val_accuracy: 0.9084\n",
            "Epoch 19/40\n",
            "241/241 [==============================] - 121s 501ms/step - loss: 0.1982 - accuracy: 0.9185 - val_loss: 0.2295 - val_accuracy: 0.9131\n",
            "Epoch 20/40\n",
            "241/241 [==============================] - 118s 489ms/step - loss: 0.1954 - accuracy: 0.9181 - val_loss: 0.2101 - val_accuracy: 0.9214\n",
            "Epoch 21/40\n",
            "241/241 [==============================] - 121s 503ms/step - loss: 0.1922 - accuracy: 0.9233 - val_loss: 0.2209 - val_accuracy: 0.9162\n",
            "Epoch 22/40\n",
            "241/241 [==============================] - 123s 507ms/step - loss: 0.1906 - accuracy: 0.9244 - val_loss: 0.2176 - val_accuracy: 0.9167\n",
            "Epoch 23/40\n",
            "241/241 [==============================] - 121s 501ms/step - loss: 0.1811 - accuracy: 0.9269 - val_loss: 0.2010 - val_accuracy: 0.9198\n",
            "Epoch 24/40\n",
            "241/241 [==============================] - 120s 500ms/step - loss: 0.1797 - accuracy: 0.9308 - val_loss: 0.2332 - val_accuracy: 0.9089\n",
            "Epoch 25/40\n",
            "241/241 [==============================] - 120s 499ms/step - loss: 0.1861 - accuracy: 0.9241 - val_loss: 0.2208 - val_accuracy: 0.9125\n",
            "Epoch 26/40\n",
            "241/241 [==============================] - 120s 497ms/step - loss: 0.1768 - accuracy: 0.9297 - val_loss: 0.2201 - val_accuracy: 0.9094\n",
            "Epoch 27/40\n",
            "241/241 [==============================] - 120s 498ms/step - loss: 0.1879 - accuracy: 0.9233 - val_loss: 0.2149 - val_accuracy: 0.9214\n",
            "Epoch 28/40\n",
            "241/241 [==============================] - 119s 494ms/step - loss: 0.1760 - accuracy: 0.9275 - val_loss: 0.2085 - val_accuracy: 0.9193\n",
            "Epoch 29/40\n",
            "241/241 [==============================] - 121s 502ms/step - loss: 0.1790 - accuracy: 0.9295 - val_loss: 0.2323 - val_accuracy: 0.9198\n",
            "Epoch 30/40\n",
            "241/241 [==============================] - 121s 503ms/step - loss: 0.1794 - accuracy: 0.9289 - val_loss: 0.2154 - val_accuracy: 0.9214\n",
            "Epoch 31/40\n",
            "241/241 [==============================] - 121s 502ms/step - loss: 0.1773 - accuracy: 0.9302 - val_loss: 0.2145 - val_accuracy: 0.9245\n",
            "Epoch 32/40\n",
            "241/241 [==============================] - 119s 493ms/step - loss: 0.1702 - accuracy: 0.9313 - val_loss: 0.2228 - val_accuracy: 0.9089\n",
            "Epoch 33/40\n",
            "241/241 [==============================] - 120s 499ms/step - loss: 0.1680 - accuracy: 0.9325 - val_loss: 0.2206 - val_accuracy: 0.9193\n",
            "Epoch 34/40\n",
            "241/241 [==============================] - 120s 496ms/step - loss: 0.1628 - accuracy: 0.9347 - val_loss: 0.2076 - val_accuracy: 0.9292\n",
            "Epoch 35/40\n",
            "241/241 [==============================] - 121s 503ms/step - loss: 0.1681 - accuracy: 0.9319 - val_loss: 0.2225 - val_accuracy: 0.9099\n",
            "Epoch 36/40\n",
            "241/241 [==============================] - 120s 499ms/step - loss: 0.1613 - accuracy: 0.9351 - val_loss: 0.2095 - val_accuracy: 0.9250\n",
            "Epoch 37/40\n",
            "241/241 [==============================] - 119s 494ms/step - loss: 0.1573 - accuracy: 0.9374 - val_loss: 0.2276 - val_accuracy: 0.9131\n",
            "Epoch 38/40\n",
            "241/241 [==============================] - 120s 496ms/step - loss: 0.1542 - accuracy: 0.9390 - val_loss: 0.2306 - val_accuracy: 0.9162\n",
            "Epoch 39/40\n",
            "241/241 [==============================] - 121s 504ms/step - loss: 0.1569 - accuracy: 0.9386 - val_loss: 0.2262 - val_accuracy: 0.9063\n",
            "Epoch 40/40\n",
            "241/241 [==============================] - 121s 502ms/step - loss: 0.1512 - accuracy: 0.9423 - val_loss: 0.2313 - val_accuracy: 0.9115\n"
          ]
        }
      ]
    },
    {
      "cell_type": "code",
      "source": [],
      "metadata": {
        "id": "obGbG_3Cbqwr"
      },
      "execution_count": null,
      "outputs": []
    },
    {
      "cell_type": "code",
      "source": [
        "model.save(r\"C:\\Users\\sovan dash\\Desktop\\meloma_cnn\\melanoma.keras\")"
      ],
      "metadata": {
        "trusted": true,
        "id": "19og10sNbqwr"
      },
      "execution_count": null,
      "outputs": []
    },
    {
      "cell_type": "code",
      "source": [
        "model.evaluate(test_generator)"
      ],
      "metadata": {
        "trusted": true,
        "id": "JKA4PBtFbqwr",
        "outputId": "85b6b148-2481-4781-b24e-243233d97166",
        "colab": {
          "base_uri": "https://localhost:8080/"
        }
      },
      "execution_count": null,
      "outputs": [
        {
          "output_type": "stream",
          "name": "stdout",
          "text": [
            "32/32 [==============================] - 2s 62ms/step - loss: 0.2854 - accuracy: 0.9030\n"
          ]
        },
        {
          "output_type": "execute_result",
          "data": {
            "text/plain": [
              "[0.28537672758102417, 0.902999997138977]"
            ]
          },
          "metadata": {},
          "execution_count": 11
        }
      ]
    },
    {
      "cell_type": "code",
      "source": [
        "plt.figure(figsize=(10,4))\n",
        "\n",
        "plt.subplot(1,2,1)\n",
        "plt.plot(history.history['val_loss'])\n",
        "plt.title('epochs vs val_loss')\n",
        "plt.xlabel('number of epochs')\n",
        "plt.ylabel('val_loss')\n",
        "\n",
        "plt.subplot(1,2,2)\n",
        "plt.plot(history.history['val_accuracy'])\n",
        "plt.title('epochs vs val_accuracy')\n",
        "plt.xlabel('number of epochs')\n",
        "plt.ylabel('val_accuracy')\n",
        "\n",
        "plt.tight_layout()\n",
        "\n",
        "plt.show()"
      ],
      "metadata": {
        "trusted": true,
        "id": "sZCcpat-bqwr",
        "outputId": "b871623a-bb2a-48a1-863e-380bb3e7315c",
        "colab": {
          "base_uri": "https://localhost:8080/",
          "height": 407
        }
      },
      "execution_count": null,
      "outputs": [
        {
          "output_type": "display_data",
          "data": {
            "text/plain": [
              "<Figure size 1000x400 with 2 Axes>"
            ],
            "image/png": "[encoded data removed]"
          },
          "metadata": {}
        }
      ]
    },
    {
      "cell_type": "code",
      "source": [],
      "metadata": {
        "trusted": true,
        "id": "w3FluC_Mbqwr"
      },
      "execution_count": null,
      "outputs": []
    },
    {
      "cell_type": "code",
      "source": [],
      "metadata": {
        "trusted": true,
        "id": "KgTR7VFsbqwr"
      },
      "execution_count": null,
      "outputs": []
    },
    {
      "cell_type": "code",
      "source": [],
      "metadata": {
        "trusted": true,
        "id": "KuhJpw9Vbqwr"
      },
      "execution_count": null,
      "outputs": []
    },
    {
      "cell_type": "code",
      "source": [],
      "metadata": {
        "trusted": true,
        "id": "Q4cD1dUrbqwr"
      },
      "execution_count": null,
      "outputs": []
    },
    {
      "cell_type": "code",
      "source": [],
      "metadata": {
        "id": "l9RClC1tbqwr"
      },
      "execution_count": null,
      "outputs": []
    }
  ]
}